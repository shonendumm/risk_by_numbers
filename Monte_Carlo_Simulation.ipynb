{
  "nbformat": 4,
  "nbformat_minor": 0,
  "metadata": {
    "colab": {
      "provenance": [],
      "authorship_tag": "ABX9TyNIG5Y8O6fTGQixdtfVymWW",
      "include_colab_link": true
    },
    "kernelspec": {
      "name": "python3",
      "display_name": "Python 3"
    },
    "language_info": {
      "name": "python"
    }
  },
  "cells": [
    {
      "cell_type": "markdown",
      "metadata": {
        "id": "view-in-github",
        "colab_type": "text"
      },
      "source": [
        "<a href=\"https://colab.research.google.com/github/shonendumm/risk_by_numbers/blob/main/Monte_Carlo_Simulation.ipynb\" target=\"_parent\"><img src=\"https://colab.research.google.com/assets/colab-badge.svg\" alt=\"Open In Colab\"/></a>"
      ]
    },
    {
      "cell_type": "code",
      "execution_count": null,
      "metadata": {
        "id": "7fnJTDyyNB79"
      },
      "outputs": [],
      "source": [
        "import numpy as np\n",
        "import matplotlib.pyplot as plt"
      ]
    },
    {
      "cell_type": "markdown",
      "source": [
        "Use Monte Carlo simulation to find the probability that two tasks take a combined total of over 9 hours to complete.\n",
        "\n",
        "Given that:\n",
        "- task A has uniform probability of between 1-5 hours.\n",
        "- task B has uniform probability of between 2-6 hours."
      ],
      "metadata": {
        "id": "e-TSyQBdPF2X"
      }
    },
    {
      "cell_type": "code",
      "source": [
        "# number of simulations/samples\n",
        "n = 1_000_000\n",
        "\n",
        "# Take n samples from two uniform distributions\n",
        "task_A = np.random.uniform(low=1, high=5, size=n)\n",
        "task_B = np.random.uniform(low=2, high=6, size=n)\n",
        "\n",
        "# Combined the two samples for total time\n",
        "total = task_A + task_B"
      ],
      "metadata": {
        "id": "Cz6zMvsoNHr4"
      },
      "execution_count": null,
      "outputs": []
    },
    {
      "cell_type": "code",
      "source": [
        "total"
      ],
      "metadata": {
        "colab": {
          "base_uri": "https://localhost:8080/"
        },
        "id": "4AIZe2LCN0aY",
        "outputId": "13cce533-59ec-4b88-e5dd-609ee65804fd"
      },
      "execution_count": null,
      "outputs": [
        {
          "output_type": "execute_result",
          "data": {
            "text/plain": [
              "array([ 5.35791068,  5.61029729, 10.09853468, ...,  4.50188287,\n",
              "        7.61678926,  6.19248618])"
            ]
          },
          "metadata": {},
          "execution_count": 4
        }
      ]
    },
    {
      "cell_type": "code",
      "source": [
        "# Use a histogram to plot the samples.\n",
        "plt.hist(total, density=True)\n",
        "plt.axvline(9, color='r' );"
      ],
      "metadata": {
        "colab": {
          "base_uri": "https://localhost:8080/",
          "height": 430
        },
        "id": "9ScdqzluN_MC",
        "outputId": "f34b12c7-90d7-4501-bf87-c051cddb31ff"
      },
      "execution_count": null,
      "outputs": [
        {
          "output_type": "display_data",
          "data": {
            "text/plain": [
              "<Figure size 640x480 with 1 Axes>"
            ],
            "image/png": "[encoded data removed]"
          },
          "metadata": {}
        }
      ]
    },
    {
      "cell_type": "code",
      "source": [
        "# Probability that the two tasks will take >= 9 hours to complete:\n",
        "\n",
        "(total >= 9).sum() / n * 100\n",
        "# 12.5%"
      ],
      "metadata": {
        "colab": {
          "base_uri": "https://localhost:8080/"
        },
        "id": "fKHVMLtHOCmQ",
        "outputId": "e3e15e2b-34c4-4b37-fb81-43ff0be2a240"
      },
      "execution_count": null,
      "outputs": [
        {
          "output_type": "execute_result",
          "data": {
            "text/plain": [
              "12.5032"
            ]
          },
          "metadata": {},
          "execution_count": 32
        }
      ]
    },
    {
      "cell_type": "code",
      "source": [
        "(total < 9).sum() / n * 100"
      ],
      "metadata": {
        "colab": {
          "base_uri": "https://localhost:8080/"
        },
        "id": "Wx-UOEsqQVzP",
        "outputId": "4af8b0de-150b-4c70-a28a-99faf64b40e1"
      },
      "execution_count": null,
      "outputs": [
        {
          "output_type": "execute_result",
          "data": {
            "text/plain": [
              "87.4968"
            ]
          },
          "metadata": {},
          "execution_count": 33
        }
      ]
    },
    {
      "cell_type": "code",
      "source": [],
      "metadata": {
        "id": "uBI-ZAuLRXy6"
      },
      "execution_count": null,
      "outputs": []
    }
  ]
}